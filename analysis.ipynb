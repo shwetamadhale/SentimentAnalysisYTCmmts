{
 "cells": [
  {
   "cell_type": "code",
   "execution_count": 2,
   "id": "702ab05a",
   "metadata": {},
   "outputs": [
    {
     "name": "stdout",
     "output_type": "stream",
     "text": [
      "Requirement already satisfied: emoji in c:\\users\\madha\\anaconda3\\lib\\site-packages (1.5.0)\n",
      "Requirement already satisfied: vaderSentiment in c:\\users\\madha\\anaconda3\\lib\\site-packages (3.3.2)\n",
      "Requirement already satisfied: requests in c:\\users\\madha\\anaconda3\\lib\\site-packages (from vaderSentiment) (2.25.1)\n",
      "Requirement already satisfied: chardet<5,>=3.0.2 in c:\\users\\madha\\anaconda3\\lib\\site-packages (from requests->vaderSentiment) (4.0.0)\n",
      "Requirement already satisfied: idna<3,>=2.5 in c:\\users\\madha\\anaconda3\\lib\\site-packages (from requests->vaderSentiment) (2.10)\n",
      "Requirement already satisfied: urllib3<1.27,>=1.21.1 in c:\\users\\madha\\anaconda3\\lib\\site-packages (from requests->vaderSentiment) (1.26.4)\n",
      "Requirement already satisfied: certifi>=2017.4.17 in c:\\users\\madha\\anaconda3\\lib\\site-packages (from requests->vaderSentiment) (2020.12.5)\n",
      "Collecting TextBlob\n",
      "  Downloading textblob-0.15.3-py2.py3-none-any.whl (636 kB)\n",
      "Requirement already satisfied: nltk>=3.1 in c:\\users\\madha\\anaconda3\\lib\\site-packages (from TextBlob) (3.6.1)\n",
      "Requirement already satisfied: joblib in c:\\users\\madha\\anaconda3\\lib\\site-packages (from nltk>=3.1->TextBlob) (1.0.1)\n",
      "Requirement already satisfied: tqdm in c:\\users\\madha\\anaconda3\\lib\\site-packages (from nltk>=3.1->TextBlob) (4.59.0)\n",
      "Requirement already satisfied: regex in c:\\users\\madha\\anaconda3\\lib\\site-packages (from nltk>=3.1->TextBlob) (2021.4.4)\n",
      "Requirement already satisfied: click in c:\\users\\madha\\anaconda3\\lib\\site-packages (from nltk>=3.1->TextBlob) (7.1.2)\n",
      "Installing collected packages: TextBlob\n",
      "Successfully installed TextBlob-0.15.3\n"
     ]
    }
   ],
   "source": [
    "import pickle\n",
    "import pandas as pd\n",
    "import seaborn as sn\n",
    "import matplotlib.pyplot as plt\n",
    "!pip install emoji\n",
    "!pip install vaderSentiment\n",
    "from emoji import UNICODE_EMOJI\n",
    "from vaderSentiment.vaderSentiment import SentimentIntensityAnalyzer\n",
    "!pip install TextBlob\n",
    "from textblob import TextBlob\n",
    "from textblob import Word"
   ]
  },
  {
   "cell_type": "code",
   "execution_count": 7,
   "id": "49c07a64",
   "metadata": {},
   "outputs": [],
   "source": [
    "\n",
    "df_comments = pd.read_csv('C:/Users/madha/Downloads/SentimentAnalysisYTComments/yt_comments.csv')"
   ]
  },
  {
   "cell_type": "code",
   "execution_count": 12,
   "id": "3e06f4c3",
   "metadata": {},
   "outputs": [
    {
     "data": {
      "text/html": [
       "<div>\n",
       "<style scoped>\n",
       "    .dataframe tbody tr th:only-of-type {\n",
       "        vertical-align: middle;\n",
       "    }\n",
       "\n",
       "    .dataframe tbody tr th {\n",
       "        vertical-align: top;\n",
       "    }\n",
       "\n",
       "    .dataframe thead th {\n",
       "        text-align: right;\n",
       "    }\n",
       "</style>\n",
       "<table border=\"1\" class=\"dataframe\">\n",
       "  <thead>\n",
       "    <tr style=\"text-align: right;\">\n",
       "      <th></th>\n",
       "      <th>Unnamed: 0</th>\n",
       "      <th>comment</th>\n",
       "      <th>comment_id</th>\n",
       "      <th>author_url</th>\n",
       "      <th>author_name</th>\n",
       "      <th>reply_count</th>\n",
       "      <th>like_count</th>\n",
       "      <th>date</th>\n",
       "      <th>total_reply_counts</th>\n",
       "      <th>just_date</th>\n",
       "    </tr>\n",
       "  </thead>\n",
       "  <tbody>\n",
       "    <tr>\n",
       "      <th>0</th>\n",
       "      <td>0</td>\n",
       "      <td>54:50 Did you use the word smart?\\nI Am DYIN</td>\n",
       "      <td>UgxX3UX6UcLf1ak02uN4AaABAg</td>\n",
       "      <td>http://www.youtube.com/channel/UCC6FwHvoZHvllE...</td>\n",
       "      <td>Rhombohedral</td>\n",
       "      <td>0</td>\n",
       "      <td>0</td>\n",
       "      <td>2020-12-06 21:56:33+00:00</td>\n",
       "      <td>0</td>\n",
       "      <td>2020-12-06</td>\n",
       "    </tr>\n",
       "    <tr>\n",
       "      <th>1</th>\n",
       "      <td>1</td>\n",
       "      <td>44:41 It is mental LMFAO  . Wow a new  height ...</td>\n",
       "      <td>Ugyr8s3gRCpggbQ0wL14AaABAg</td>\n",
       "      <td>http://www.youtube.com/channel/UCC6FwHvoZHvllE...</td>\n",
       "      <td>Rhombohedral</td>\n",
       "      <td>0</td>\n",
       "      <td>0</td>\n",
       "      <td>2020-12-06 21:38:37+00:00</td>\n",
       "      <td>0</td>\n",
       "      <td>2020-12-06</td>\n",
       "    </tr>\n",
       "    <tr>\n",
       "      <th>2</th>\n",
       "      <td>2</td>\n",
       "      <td>I wanted Lawrence O'Donnell as the moderator.</td>\n",
       "      <td>UgwHMPxYWzmWJfbJBQx4AaABAg</td>\n",
       "      <td>http://www.youtube.com/channel/UCZKnDfKsZetqUn...</td>\n",
       "      <td>XedoctopusTheVyonder</td>\n",
       "      <td>0</td>\n",
       "      <td>0</td>\n",
       "      <td>2020-12-06 21:36:07+00:00</td>\n",
       "      <td>0</td>\n",
       "      <td>2020-12-06</td>\n",
       "    </tr>\n",
       "  </tbody>\n",
       "</table>\n",
       "</div>"
      ],
      "text/plain": [
       "   Unnamed: 0                                            comment  \\\n",
       "0           0       54:50 Did you use the word smart?\\nI Am DYIN   \n",
       "1           1  44:41 It is mental LMFAO  . Wow a new  height ...   \n",
       "2           2      I wanted Lawrence O'Donnell as the moderator.   \n",
       "\n",
       "                   comment_id  \\\n",
       "0  UgxX3UX6UcLf1ak02uN4AaABAg   \n",
       "1  Ugyr8s3gRCpggbQ0wL14AaABAg   \n",
       "2  UgwHMPxYWzmWJfbJBQx4AaABAg   \n",
       "\n",
       "                                          author_url           author_name  \\\n",
       "0  http://www.youtube.com/channel/UCC6FwHvoZHvllE...          Rhombohedral   \n",
       "1  http://www.youtube.com/channel/UCC6FwHvoZHvllE...          Rhombohedral   \n",
       "2  http://www.youtube.com/channel/UCZKnDfKsZetqUn...  XedoctopusTheVyonder   \n",
       "\n",
       "   reply_count  like_count                       date  total_reply_counts  \\\n",
       "0            0           0  2020-12-06 21:56:33+00:00                   0   \n",
       "1            0           0  2020-12-06 21:38:37+00:00                   0   \n",
       "2            0           0  2020-12-06 21:36:07+00:00                   0   \n",
       "\n",
       "    just_date  \n",
       "0  2020-12-06  \n",
       "1  2020-12-06  \n",
       "2  2020-12-06  "
      ]
     },
     "execution_count": 12,
     "metadata": {},
     "output_type": "execute_result"
    }
   ],
   "source": [
    "df_comments.head(3)"
   ]
  },
  {
   "cell_type": "code",
   "execution_count": 14,
   "id": "a7d43ba2",
   "metadata": {},
   "outputs": [],
   "source": [
    "# https://medium.com/@rohithramesh1991/unsupervised-text-clustering-using-natural-language-processing-nlp-1a8bc18b048d\n",
    "# https://github.com/rohithramesh1991/Text-Preprocessing/blob/master/Text%20Preprocessing_codes.py\n",
    "# https://stackoverflow.com/questions/51217909/removing-all-emojis-from-text \n",
    "from sklearn.feature_extraction import text\n",
    "from sklearn.feature_extraction.text import TfidfVectorizer\n",
    "from sklearn.cluster import KMeans\n",
    "from nltk.tokenize import RegexpTokenizer\n",
    "from nltk.stem.snowball import SnowballStemmer\n",
    "%matplotlib inline"
   ]
  },
  {
   "cell_type": "code",
   "execution_count": 15,
   "id": "236017a1",
   "metadata": {},
   "outputs": [
    {
     "name": "stderr",
     "output_type": "stream",
     "text": [
      "[nltk_data] Downloading package stopwords to\n",
      "[nltk_data]     C:\\Users\\madha\\AppData\\Roaming\\nltk_data...\n",
      "[nltk_data]   Unzipping corpora\\stopwords.zip.\n",
      "[nltk_data] Downloading package wordnet to\n",
      "[nltk_data]     C:\\Users\\madha\\AppData\\Roaming\\nltk_data...\n",
      "[nltk_data]   Package wordnet is already up-to-date!\n"
     ]
    }
   ],
   "source": [
    "# text preprocessing\n",
    "\"\"\"removes punctuation, stopwords, and returns a list of the remaining words, or tokens\"\"\"\n",
    "import string\n",
    "import emoji\n",
    "import nltk\n",
    "from nltk.corpus import stopwords\n",
    "from nltk.stem import WordNetLemmatizer\n",
    "from sklearn.feature_extraction import text\n",
    "from sklearn.feature_extraction.text import TfidfVectorizer\n",
    "from sklearn.cluster import KMeans\n",
    "from nltk.tokenize import RegexpTokenizer\n",
    "from nltk.stem.snowball import SnowballStemmer\n",
    "nltk.download('stopwords')\n",
    "nltk.download('wordnet')\n",
    "from nltk.stem import PorterStemmer, WordNetLemmatizer\n",
    "\n",
    "# remove emojis \n",
    "def give_emoji_free_text(text):\n",
    "    allchars = [str for str in text]\n",
    "    emoji_list = [c for c in allchars if c in emoji.UNICODE_EMOJI]\n",
    "    clean_text = ' '.join([str for str in text.split() if not any(i in str for i in emoji_list)])\n",
    "    return clean_text\n",
    "\n",
    "\n",
    "def text_process(text):\n",
    "    # stemmer = WordNetLemmatizer()\n",
    "    stemmer = PorterStemmer()\n",
    "    nopunc = [char for char in text if char not in string.punctuation]\n",
    "    nopunc = ''.join([i for i in nopunc if not i.isdigit()])\n",
    "    nopunc =  [word.lower() for word in nopunc.split() if word not in stopwords.words('english')]\n",
    "    # temp = [stemmer.lemmatize(word) for word in nopunc]\n",
    "    temp = [stemmer.stem(word) for word in nopunc]\n",
    "\n",
    "    joined = ' '.join(temp)\n",
    "    # remove emojis \n",
    "    joined = give_emoji_free_text(joined)\n",
    "\n",
    "    # correct spelling \n",
    "    # joined = str(TextBlob(joined).correct())\n",
    "\n",
    "    return joined.split()\n"
   ]
  },
  {
   "cell_type": "code",
   "execution_count": 16,
   "id": "a89dd054",
   "metadata": {},
   "outputs": [],
   "source": [
    "##kmeans\n",
    "desc = df_comments['comment'].values \n",
    "vectorizer4 = TfidfVectorizer(analyzer = text_process, stop_words=stopwords.words('english'), ngram_range=(1,3))\n",
    "X4 = vectorizer4.fit_transform(desc)\n",
    "words = vectorizer4.get_feature_names()\n"
   ]
  },
  {
   "cell_type": "code",
   "execution_count": 17,
   "id": "ec0d3c54",
   "metadata": {},
   "outputs": [
    {
     "data": {
      "image/png": "[encoded data removed]",
      "text/plain": [
       "<Figure size 432x288 with 1 Axes>"
      ]
     },
     "metadata": {
      "needs_background": "light"
     },
     "output_type": "display_data"
    }
   ],
   "source": [
    "wcss = []\n",
    "for i in range(1,10):\n",
    "    kmeans = KMeans(n_clusters=i,init='k-means++',max_iter=300,n_init=10,random_state=0)\n",
    "    kmeans.fit(X4)\n",
    "    wcss.append(kmeans.inertia_)\n",
    "plt.plot(range(1,10),wcss)\n",
    "plt.title('The Elbow Method')\n",
    "plt.xlabel('Number of clusters')\n",
    "plt.ylabel('WCSS')\n",
    "plt.savefig('elbow.png')\n",
    "plt.show()"
   ]
  },
  {
   "cell_type": "code",
   "execution_count": 18,
   "id": "729b66a4",
   "metadata": {},
   "outputs": [
    {
     "name": "stderr",
     "output_type": "stream",
     "text": [
      "C:\\Users\\madha\\anaconda3\\lib\\site-packages\\sklearn\\cluster\\_kmeans.py:792: FutureWarning: 'n_jobs' was deprecated in version 0.23 and will be removed in 1.0 (renaming of 0.25).\n",
      "  warnings.warn(\"'n_jobs' was deprecated in version 0.23 and will be\"\n"
     ]
    },
    {
     "name": "stdout",
     "output_type": "stream",
     "text": [
      "0 : trump, fuck, go, vote, biden, presid, debat, like, one, moder, joe, savag, get, behav, peopl, beauti, piec, i, weak, bless, support, babi, heard, love, anoth\n",
      "1 : trump, biden, i, debat, joe, like, presid, thi, the, moder, vote, peopl, watch, fuck, talk, wallac, he, get, one, say, time, go, america, lol, chri\n"
     ]
    }
   ],
   "source": [
    "kmeans = KMeans(n_clusters = 2, n_init = 20, n_jobs = 1) # n_init(number of iterations for clsutering) n_jobs(number of cpu cores to use)\n",
    "kmeans.fit(X4)\n",
    "# We look at 2 the clusters generated by k-means.\n",
    "common_words = kmeans.cluster_centers_.argsort()[:,-1:-26:-1]\n",
    "for num, centroid in enumerate(common_words):\n",
    "    print(str(num) + ' : ' + ', '.join(words[word] for word in centroid))\n",
    "    "
   ]
  },
  {
   "cell_type": "code",
   "execution_count": null,
   "id": "3d332804",
   "metadata": {},
   "outputs": [],
   "source": []
  }
 ],
 "metadata": {
  "kernelspec": {
   "display_name": "Python 3",
   "language": "python",
   "name": "python3"
  },
  "language_info": {
   "codemirror_mode": {
    "name": "ipython",
    "version": 3
   },
   "file_extension": ".py",
   "mimetype": "text/x-python",
   "name": "python",
   "nbconvert_exporter": "python",
   "pygments_lexer": "ipython3",
   "version": "3.8.8"
  }
 },
 "nbformat": 4,
 "nbformat_minor": 5
}
